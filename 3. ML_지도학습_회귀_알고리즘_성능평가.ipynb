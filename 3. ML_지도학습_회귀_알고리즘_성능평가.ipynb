{
 "cells": [
  {
   "cell_type": "markdown",
   "metadata": {},
   "source": [
    "# 회귀"
   ]
  },
  {
   "cell_type": "markdown",
   "metadata": {},
   "source": [
    "- 머신러닝 -> 지도학습 -> 회귀\n",
    "- 지도학습 상에서 정답이 카테고리화 되면 분류, 아니면 회귀로 간다. (수치)\n",
    " - 부동산 데이터 정보를 가지고 집값 예측 (수치, 딱 떨어진 것이 아닌 추정치)\n",
    "- (두 OR 여러개) 변수 사이에 관계를 설명 할 수 있는 식을 만든다면, -> 새로운 데이터를 넣어서 그 결과를 예측할 수 있다!"
   ]
  },
  {
   "cell_type": "markdown",
   "metadata": {},
   "source": [
    "- 종류\n",
    "    - 상관분석(독립변수들간의 (다중공선성 이라는 문제를 야기시키고, 분석의 신뢰성을 저하시키는 원인), **독립변수와 종속변수 간에**), 인과관계, 가설검증, 아메바분석 등등...\n",
    "    - **단순 선형 회귀 분석**\n",
    "    - **다중 회귀(중회귀) 분석**\n",
    "    - 로지스틱 회귀"
   ]
  },
  {
   "cell_type": "markdown",
   "metadata": {},
   "source": [
    "- 기타\n",
    "    - 라쏘 회귀\n",
    "    - 릿지 회귀 등등"
   ]
  },
  {
   "cell_type": "markdown",
   "metadata": {},
   "source": [
    "## 단순 선형 회귀 분석"
   ]
  },
  {
   "cell_type": "markdown",
   "metadata": {},
   "source": [
    "### 연구목표"
   ]
  },
  {
   "cell_type": "markdown",
   "metadata": {},
   "source": [
    "1. 목표1\n",
    "    - 알코올(독립변수)이 와인품질(종속변수)에 미치는 영향, 상관관계 분석, 두 변수 간의 관계식을 구현\n",
    "    - 그 영향을 수치화\n",
    "    - 관계를 해석\n",
    "2. 목표2\n",
    "    - 개별 독립 변수들와 와인 품질에 대해서 1:1 대응하여 어떤 독립변수가 품질에 영향을 미치는지 분석"
   ]
  },
  {
   "cell_type": "markdown",
   "metadata": {},
   "source": [
    "#### 데이터 준비"
   ]
  },
  {
   "cell_type": "code",
   "execution_count": 1,
   "metadata": {},
   "outputs": [],
   "source": [
    "import numpy as np\n",
    "import pandas as pd\n",
    "\n",
    "# 파이썬의 통계 분석을 위해 편리한 도구를 제공하는 패키지\n",
    "import statsmodels.api as sm\n",
    "\"\"\"\n",
    "R 모형들 중 \n",
    "    - 검정, 추정, 회귀분석, 시계열 분석 등등 ....\n",
    "    - R스타일로 제공해준다. 방법론은 동일하다.\n",
    "\"\"\"\n",
    "# 시각화\n",
    "import matplotlib.pyplot as plt\n",
    "import seaborn as sns\n",
    "\n",
    "%matplotlib inline"
   ]
  },
  {
   "cell_type": "code",
   "execution_count": 4,
   "metadata": {},
   "outputs": [
    {
     "data": {
      "text/html": [
       "<div>\n",
       "<style scoped>\n",
       "    .dataframe tbody tr th:only-of-type {\n",
       "        vertical-align: middle;\n",
       "    }\n",
       "\n",
       "    .dataframe tbody tr th {\n",
       "        vertical-align: top;\n",
       "    }\n",
       "\n",
       "    .dataframe thead th {\n",
       "        text-align: right;\n",
       "    }\n",
       "</style>\n",
       "<table border=\"1\" class=\"dataframe\">\n",
       "  <thead>\n",
       "    <tr style=\"text-align: right;\">\n",
       "      <th></th>\n",
       "      <th>fixed acidity</th>\n",
       "      <th>volatile acidity</th>\n",
       "      <th>citric acid</th>\n",
       "      <th>residual sugar</th>\n",
       "      <th>chlorides</th>\n",
       "      <th>free sulfur dioxide</th>\n",
       "      <th>total sulfur dioxide</th>\n",
       "      <th>density</th>\n",
       "      <th>pH</th>\n",
       "      <th>sulphates</th>\n",
       "      <th>alcohol</th>\n",
       "      <th>quality</th>\n",
       "    </tr>\n",
       "  </thead>\n",
       "  <tbody>\n",
       "    <tr>\n",
       "      <th>0</th>\n",
       "      <td>7.4</td>\n",
       "      <td>0.70</td>\n",
       "      <td>0.00</td>\n",
       "      <td>1.9</td>\n",
       "      <td>0.076</td>\n",
       "      <td>11.0</td>\n",
       "      <td>34.0</td>\n",
       "      <td>0.9978</td>\n",
       "      <td>3.51</td>\n",
       "      <td>0.56</td>\n",
       "      <td>9.4</td>\n",
       "      <td>5</td>\n",
       "    </tr>\n",
       "    <tr>\n",
       "      <th>1</th>\n",
       "      <td>7.8</td>\n",
       "      <td>0.88</td>\n",
       "      <td>0.00</td>\n",
       "      <td>2.6</td>\n",
       "      <td>0.098</td>\n",
       "      <td>25.0</td>\n",
       "      <td>67.0</td>\n",
       "      <td>0.9968</td>\n",
       "      <td>3.20</td>\n",
       "      <td>0.68</td>\n",
       "      <td>9.8</td>\n",
       "      <td>5</td>\n",
       "    </tr>\n",
       "    <tr>\n",
       "      <th>2</th>\n",
       "      <td>7.8</td>\n",
       "      <td>0.76</td>\n",
       "      <td>0.04</td>\n",
       "      <td>2.3</td>\n",
       "      <td>0.092</td>\n",
       "      <td>15.0</td>\n",
       "      <td>54.0</td>\n",
       "      <td>0.9970</td>\n",
       "      <td>3.26</td>\n",
       "      <td>0.65</td>\n",
       "      <td>9.8</td>\n",
       "      <td>5</td>\n",
       "    </tr>\n",
       "    <tr>\n",
       "      <th>3</th>\n",
       "      <td>11.2</td>\n",
       "      <td>0.28</td>\n",
       "      <td>0.56</td>\n",
       "      <td>1.9</td>\n",
       "      <td>0.075</td>\n",
       "      <td>17.0</td>\n",
       "      <td>60.0</td>\n",
       "      <td>0.9980</td>\n",
       "      <td>3.16</td>\n",
       "      <td>0.58</td>\n",
       "      <td>9.8</td>\n",
       "      <td>6</td>\n",
       "    </tr>\n",
       "    <tr>\n",
       "      <th>4</th>\n",
       "      <td>7.4</td>\n",
       "      <td>0.70</td>\n",
       "      <td>0.00</td>\n",
       "      <td>1.9</td>\n",
       "      <td>0.076</td>\n",
       "      <td>11.0</td>\n",
       "      <td>34.0</td>\n",
       "      <td>0.9978</td>\n",
       "      <td>3.51</td>\n",
       "      <td>0.56</td>\n",
       "      <td>9.4</td>\n",
       "      <td>5</td>\n",
       "    </tr>\n",
       "  </tbody>\n",
       "</table>\n",
       "</div>"
      ],
      "text/plain": [
       "   fixed acidity  volatile acidity  citric acid  residual sugar  chlorides  \\\n",
       "0            7.4              0.70         0.00             1.9      0.076   \n",
       "1            7.8              0.88         0.00             2.6      0.098   \n",
       "2            7.8              0.76         0.04             2.3      0.092   \n",
       "3           11.2              0.28         0.56             1.9      0.075   \n",
       "4            7.4              0.70         0.00             1.9      0.076   \n",
       "\n",
       "   free sulfur dioxide  total sulfur dioxide  density    pH  sulphates  \\\n",
       "0                 11.0                  34.0   0.9978  3.51       0.56   \n",
       "1                 25.0                  67.0   0.9968  3.20       0.68   \n",
       "2                 15.0                  54.0   0.9970  3.26       0.65   \n",
       "3                 17.0                  60.0   0.9980  3.16       0.58   \n",
       "4                 11.0                  34.0   0.9978  3.51       0.56   \n",
       "\n",
       "   alcohol  quality  \n",
       "0      9.4        5  \n",
       "1      9.8        5  \n",
       "2      9.8        5  \n",
       "3      9.8        6  \n",
       "4      9.4        5  "
      ]
     },
     "execution_count": 4,
     "metadata": {},
     "output_type": "execute_result"
    }
   ],
   "source": [
    "# csv -> df\n",
    "wine_qu = pd.read_csv('./res/winequality-red.csv', sep=';')\n",
    "wine_qu.head()"
   ]
  },
  {
   "cell_type": "code",
   "execution_count": 5,
   "metadata": {},
   "outputs": [
    {
     "data": {
      "text/plain": [
       "(1599, 12)"
      ]
     },
     "execution_count": 5,
     "metadata": {},
     "output_type": "execute_result"
    }
   ],
   "source": [
    "wine_qu.shape"
   ]
  },
  {
   "cell_type": "code",
   "execution_count": 6,
   "metadata": {},
   "outputs": [
    {
     "data": {
      "text/plain": [
       "array([5, 6, 7, 4, 8, 3], dtype=int64)"
      ]
     },
     "execution_count": 6,
     "metadata": {},
     "output_type": "execute_result"
    }
   ],
   "source": [
    "# 품질에 대해서 3이 좋은것인지? 8이 좋은것인지? 3-8 다인지? 이 값은 연속적인지? 단지 구분하는 것인지?\n",
    "# 인사이트 분석, 공부를 통해서 데이터에 대한 기본적인 정보를 가지고 있어야한다.\n",
    "wine_qu.quality.unique()"
   ]
  },
  {
   "cell_type": "markdown",
   "metadata": {},
   "source": [
    "- 컬럼 \n",
    "  - 독립변수 \n",
    "    - \"고정 산도\"; \"휘발성 산도\"; \"구연산\"; \"잔류 당\"; \"염화물\"; \"유리 이산화황\"; \"총 이산화황\"; \"밀도\"; \"pH\"; \"황산염\"; **\"알코올\"**; \n",
    "  - 종속변수\n",
    "    - <font color='color:red;'><b>\"품질\"</b></font>"
   ]
  },
  {
   "cell_type": "code",
   "execution_count": 8,
   "metadata": {},
   "outputs": [
    {
     "data": {
      "text/plain": [
       "Index(['fixed acidity', 'volatile acidity', 'citric acid', 'residual sugar',\n",
       "       'chlorides', 'free sulfur dioxide', 'total sulfur dioxide', 'density',\n",
       "       'pH', 'sulphates', 'alcohol', 'quality'],\n",
       "      dtype='object')"
      ]
     },
     "execution_count": 8,
     "metadata": {},
     "output_type": "execute_result"
    }
   ],
   "source": [
    "wine_qu.columns\n",
    "# 컬럼명에 공백이 존재해서 불편할 수 도 있다 -> 공백 처리, 컬럼명을 명확하게 조정해서 사용"
   ]
  },
  {
   "cell_type": "markdown",
   "metadata": {},
   "source": [
    "### 기초 용어 이해"
   ]
  },
  {
   "cell_type": "markdown",
   "metadata": {},
   "source": [
    "- 단순 선형 회귀 분석\n",
    "- 명제\n",
    "    - 인구가 X명인데, 필요한 전력량은? Y\n",
    "    - 흡연하는 양이 X일 때, 폐암 발생률은? Y\n",
    "    - 키가 X인데, 몸무게는? Y\n",
    "- 식\n",
    "  - y(종속변수) = ⍺(y절편, 상수, 편향) + β(기울기)x(독립변수)\n",
    "  - 2개의 요소를 설명할 수 있는 식을 구하시오\n",
    "- 용어\n",
    "  - 최소 제곱(최소 제곱법, 최소 자승법)\n",
    "    - 예측값 y`, 실제값 y(확률변수) 사이의 수직거리 -> 오차 \n",
    "    - 오차를 제곱하여 총합을 구한 것, 이 값을 최소로 되게 조절하는 것이 목표(⍺, β) \n",
    "  - 잔차(확률오차)\n",
    "    - 예측값 y`, 실제값 y(확률변수) 사이의 편차(관측값, 평균의 차이, y의 평균을 활용)\n",
    "    - 제곱해서 합한다\n",
    "    - 이 값을 최소로 하게끔 조정한다(⍺, β)\n",
    "\n",
    "  - 평가\n",
    "  - 상관분석 \n",
    "    - 두 변수간의 관계 분석 지표 "
   ]
  },
  {
   "cell_type": "markdown",
   "metadata": {},
   "source": [
    "#### statsmodels을 이용한 분석"
   ]
  },
  {
   "cell_type": "code",
   "execution_count": 10,
   "metadata": {},
   "outputs": [
    {
     "data": {
      "text/plain": [
       "(0    9.4\n",
       " 1    9.8\n",
       " 2    9.8\n",
       " Name: alcohol, dtype: float64,\n",
       " 1596    11.0\n",
       " 1597    10.2\n",
       " 1598    11.0\n",
       " Name: alcohol, dtype: float64,\n",
       " 14.9,\n",
       " 8.4)"
      ]
     },
     "execution_count": 10,
     "metadata": {},
     "output_type": "execute_result"
    }
   ],
   "source": [
    "# sm \n",
    "# 알코올 값 확인\n",
    "# 알코올 값은 연속적인 수치로 보인다.\n",
    "wine_qu['alcohol'][:3], wine_qu['alcohol'][-3:], np.max(wine_qu['alcohol']), np.min(wine_qu['alcohol'])\n",
    "# 알코올 최댓값 : 14.9\n",
    "# 알코올 최솟값 : 8.4"
   ]
  },
  {
   "cell_type": "code",
   "execution_count": 11,
   "metadata": {},
   "outputs": [
    {
     "data": {
      "text/plain": [
       "(0    5\n",
       " 1    5\n",
       " 2    5\n",
       " Name: quality, dtype: int64,\n",
       " 1596    6\n",
       " 1597    5\n",
       " 1598    6\n",
       " Name: quality, dtype: int64,\n",
       " 8,\n",
       " 3)"
      ]
     },
     "execution_count": 11,
     "metadata": {},
     "output_type": "execute_result"
    }
   ],
   "source": [
    "wine_qu['quality'][:3], wine_qu['quality'][-3:], np.max(wine_qu['quality']), np.min(wine_qu['quality'])\n",
    "# 품질 최대 8, 품질 최소 3 "
   ]
  },
  {
   "cell_type": "code",
   "execution_count": 12,
   "metadata": {},
   "outputs": [
    {
     "data": {
      "text/html": [
       "<div>\n",
       "<style scoped>\n",
       "    .dataframe tbody tr th:only-of-type {\n",
       "        vertical-align: middle;\n",
       "    }\n",
       "\n",
       "    .dataframe tbody tr th {\n",
       "        vertical-align: top;\n",
       "    }\n",
       "\n",
       "    .dataframe thead th {\n",
       "        text-align: right;\n",
       "    }\n",
       "</style>\n",
       "<table border=\"1\" class=\"dataframe\">\n",
       "  <thead>\n",
       "    <tr style=\"text-align: right;\">\n",
       "      <th></th>\n",
       "      <th>const</th>\n",
       "      <th>alcohol</th>\n",
       "    </tr>\n",
       "  </thead>\n",
       "  <tbody>\n",
       "    <tr>\n",
       "      <th>0</th>\n",
       "      <td>1.0</td>\n",
       "      <td>9.4</td>\n",
       "    </tr>\n",
       "    <tr>\n",
       "      <th>1</th>\n",
       "      <td>1.0</td>\n",
       "      <td>9.8</td>\n",
       "    </tr>\n",
       "    <tr>\n",
       "      <th>2</th>\n",
       "      <td>1.0</td>\n",
       "      <td>9.8</td>\n",
       "    </tr>\n",
       "    <tr>\n",
       "      <th>3</th>\n",
       "      <td>1.0</td>\n",
       "      <td>9.8</td>\n",
       "    </tr>\n",
       "    <tr>\n",
       "      <th>4</th>\n",
       "      <td>1.0</td>\n",
       "      <td>9.4</td>\n",
       "    </tr>\n",
       "    <tr>\n",
       "      <th>...</th>\n",
       "      <td>...</td>\n",
       "      <td>...</td>\n",
       "    </tr>\n",
       "    <tr>\n",
       "      <th>1594</th>\n",
       "      <td>1.0</td>\n",
       "      <td>10.5</td>\n",
       "    </tr>\n",
       "    <tr>\n",
       "      <th>1595</th>\n",
       "      <td>1.0</td>\n",
       "      <td>11.2</td>\n",
       "    </tr>\n",
       "    <tr>\n",
       "      <th>1596</th>\n",
       "      <td>1.0</td>\n",
       "      <td>11.0</td>\n",
       "    </tr>\n",
       "    <tr>\n",
       "      <th>1597</th>\n",
       "      <td>1.0</td>\n",
       "      <td>10.2</td>\n",
       "    </tr>\n",
       "    <tr>\n",
       "      <th>1598</th>\n",
       "      <td>1.0</td>\n",
       "      <td>11.0</td>\n",
       "    </tr>\n",
       "  </tbody>\n",
       "</table>\n",
       "<p>1599 rows × 2 columns</p>\n",
       "</div>"
      ],
      "text/plain": [
       "      const  alcohol\n",
       "0       1.0      9.4\n",
       "1       1.0      9.8\n",
       "2       1.0      9.8\n",
       "3       1.0      9.8\n",
       "4       1.0      9.4\n",
       "...     ...      ...\n",
       "1594    1.0     10.5\n",
       "1595    1.0     11.2\n",
       "1596    1.0     11.0\n",
       "1597    1.0     10.2\n",
       "1598    1.0     11.0\n",
       "\n",
       "[1599 rows x 2 columns]"
      ]
     },
     "execution_count": 12,
     "metadata": {},
     "output_type": "execute_result"
    }
   ],
   "source": [
    "# OLS툴은 독립변수를 넣을 때, API 자체적으로 계산을 위해 상수를 추가하라고 요구하고 있다.\n",
    "sm.add_constant(wine_qu['alcohol'])\n",
    "# wine_qu['alcohol']\n",
    "# OLS가 형식을 맞춰달라고 요청한 것이므로 의미를 둘 필요 없다."
   ]
  },
  {
   "cell_type": "code",
   "execution_count": 13,
   "metadata": {},
   "outputs": [],
   "source": [
    "# sm에 적용해서 분석 결과 확인\n",
    "\"\"\"\n",
    "OLS : Ordinary Least Squares : 최소제곱법을 이용하여, 데이터를 학습, 방정식을 생성, 예측을 구축한다. \n",
    "\"\"\"\n",
    "model = sm.OLS(wine_qu['quality'],sm.add_constant(wine_qu['alcohol']))"
   ]
  },
  {
   "cell_type": "code",
   "execution_count": 14,
   "metadata": {},
   "outputs": [],
   "source": [
    "# 학습\n",
    "result = model.fit()"
   ]
  },
  {
   "cell_type": "code",
   "execution_count": 15,
   "metadata": {
    "scrolled": true
   },
   "outputs": [
    {
     "name": "stdout",
     "output_type": "stream",
     "text": [
      "                            OLS Regression Results                            \n",
      "==============================================================================\n",
      "Dep. Variable:                quality   R-squared:                       0.227\n",
      "Model:                            OLS   Adj. R-squared:                  0.226\n",
      "Method:                 Least Squares   F-statistic:                     468.3\n",
      "Date:                Mon, 12 Jul 2021   Prob (F-statistic):           2.83e-91\n",
      "Time:                        15:37:30   Log-Likelihood:                -1721.1\n",
      "No. Observations:                1599   AIC:                             3446.\n",
      "Df Residuals:                    1597   BIC:                             3457.\n",
      "Df Model:                           1                                         \n",
      "Covariance Type:            nonrobust                                         \n",
      "==============================================================================\n",
      "                 coef    std err          t      P>|t|      [0.025      0.975]\n",
      "------------------------------------------------------------------------------\n",
      "const          1.8750      0.175     10.732      0.000       1.532       2.218\n",
      "alcohol        0.3608      0.017     21.639      0.000       0.328       0.394\n",
      "==============================================================================\n",
      "Omnibus:                       38.501   Durbin-Watson:                   1.748\n",
      "Prob(Omnibus):                  0.000   Jarque-Bera (JB):               71.758\n",
      "Skew:                          -0.154   Prob(JB):                     2.62e-16\n",
      "Kurtosis:                       3.991   Cond. No.                         104.\n",
      "==============================================================================\n",
      "\n",
      "Notes:\n",
      "[1] Standard Errors assume that the covariance matrix of the errors is correctly specified.\n"
     ]
    }
   ],
   "source": [
    "# 평가\n",
    "print(result.summary())"
   ]
  },
  {
   "cell_type": "markdown",
   "metadata": {},
   "source": [
    "- 해석\n",
    "    - coef(model) -> 방정식에 대한 지표 \n",
    "    - Method -> Least Squares (최소제곱법)을 사용\n",
    "    - const\n",
    "        - y절편, 상수, 편향\n",
    "        - 원리 : 이 값을 조정(상향, 하향) 해서 -> 최소제곱법으로 계산하여 이 값의 결과가 최소가 되게 조정하는 성분 (미세조정 : 최소제곱법으로)\n",
    "        - 현재 레포트 상에는 1.8750\n",
    "    - alcohol\n",
    "        - 기울기, 독립변수 명으로 보이지만 의미\n",
    "        - 현재 레포트 상에는 0.3608\n",
    "    - 방정식\n",
    "        - y = 1.8750 + 0.3609*x\n",
    "    - R-squared \n",
    "        - R^2 \n",
    "        - 결정계수\n",
    "        - 현재값 0.227 이므로, 알콜이 레드와인품질에 대해서 22.7%를 설명하고 있다.\n",
    "        - 일반적으로는, 0.7 이상 (1에 가까울수록) 높은 상관관계를 보인다. -> 지대한 영향을 미치고 있다 라고 설명할 수 있다.\n",
    "        - 해당 값은 내부적으로 합산으로 계산\n",
    "        - Adj.R-squared :\n",
    "            - 조정된 R^2 \n",
    "            - 내부적으로 평균으로 계산\n",
    "            - 0.226\n",
    "        - P > |t|\n",
    "            - P-Value(유의확률)\n",
    "            - 통상, 통계에서 가설 검정 분야에 사용하는 지표\n",
    "            - ex) 0.05 or 0.01 보다 P-Value가 작으면 귀무가설을 기각한다라는 표현 \n",
    "            - 현재값 const 0.0, 알콜 0.0\n",
    "            - 기준은 0.01 이나 0.05 라면, 귀무가설 기각\n",
    "            - 현재 귀무가설 : 알콜은 와인품질에 영향을 미친다.\n",
    "            - 결론 : 귀무가설이 기각되었으므로, 알콜은 와인 품질에 영향을 미치지 않는다. \n",
    "        - VIF(Variance Inflation Factor)\n",
    "            - 다중공선성을 판단하는 지표\n",
    "            - 다중 회귀에서 의미를 가진다.\n",
    "            - 1/(1-R^2)으로 계산됨\n",
    "                - 독립변수들 사이에 상관관계가 존재하는 경우\n",
    "                - 이런 값이 0.9 이상으로 높은 상관관계를 가지면 \n",
    "                - 다중공선성이 존재한다라고 판단 -> 아무리 예측 결과가 좋아도 신뢰성이 떨어진다. \n",
    "                - 10 이상의 값이면 다중공선성이 존재한다라고 판단"
   ]
  },
  {
   "cell_type": "code",
   "execution_count": 16,
   "metadata": {},
   "outputs": [
    {
     "data": {
      "text/plain": [
       "const      1.874975\n",
       "alcohol    0.360842\n",
       "dtype: float64"
      ]
     },
     "execution_count": 16,
     "metadata": {},
     "output_type": "execute_result"
    }
   ],
   "source": [
    "# 상수(y절편), 기울기\n",
    "result.params"
   ]
  },
  {
   "cell_type": "code",
   "execution_count": 17,
   "metadata": {},
   "outputs": [
    {
     "data": {
      "text/plain": [
       "(1.8749748869971525, 0.36084176533503476)"
      ]
     },
     "execution_count": 17,
     "metadata": {},
     "output_type": "execute_result"
    }
   ],
   "source": [
    "a, b = result.params\n",
    "a, b"
   ]
  },
  {
   "cell_type": "code",
   "execution_count": 18,
   "metadata": {
    "scrolled": true
   },
   "outputs": [
    {
     "data": {
      "image/png": "[encoded data removed]",
      "text/plain": [
       "<Figure size 432x288 with 1 Axes>"
      ]
     },
     "metadata": {
      "needs_background": "light"
     },
     "output_type": "display_data"
    }
   ],
   "source": [
    "# 시각화\n",
    "# 1. 데이터의 분포도를 그린다.\n",
    "plt.scatter(wine_qu['alcohol'],wine_qu['quality'], label='real data')\n",
    "\n",
    "# 2. 알콜 데이터를 넣어서 방정식을 활용하여 y를 구성\n",
    "plt.plot(wine_qu['alcohol'], (a+b*wine_qu['alcohol']), label='regression data')\n",
    "\n",
    "# 3. 예측 결과를 그린다. + 편향값을 입력(0.1)\n",
    "# 0.1을 제시한 것은 2번과 겹치기 때문에 구분하려고 값을 올렸다.\n",
    "plt.plot(wine_qu['alcohol'], (result.predict() + 0.1), label='predict data')\n",
    "\n",
    "# x. 보여라\n",
    "plt.legend()\n",
    "plt.xlabel('alcohol')\n",
    "plt.ylabel('quality')\n",
    "plt.show()\n",
    "# 약한 상관관계 (0.5 기준)"
   ]
  },
  {
   "cell_type": "code",
   "execution_count": 19,
   "metadata": {},
   "outputs": [
    {
     "data": {
      "text/plain": [
       "(0.22673436811275482, 0.22625016921990115)"
      ]
     },
     "execution_count": 19,
     "metadata": {},
     "output_type": "execute_result"
    }
   ],
   "source": [
    "# R^2\n",
    "result.rsquared, result.rsquared_adj"
   ]
  },
  {
   "cell_type": "code",
   "execution_count": 21,
   "metadata": {},
   "outputs": [
    {
     "data": {
      "image/png": "[encoded data removed]",
      "text/plain": [
       "<Figure size 864x432 with 1 Axes>"
      ]
     },
     "metadata": {
      "needs_background": "light"
     },
     "output_type": "display_data"
    }
   ],
   "source": [
    "# 다른 변수들과 품질에 대해 1대1로 선형회귀를 분석한 후 R제곱을 기준으로 바차트를 그리시오 (수직)\n",
    "# x축 : 독립변수명, y축 : R^2\n",
    "# 모양 \n",
    "plt.figure(figsize=(12,6))\n",
    "for column in wine_qu.columns[:-1] : \n",
    "    # 1. 모델 생성 \n",
    "    model = sm.OLS(wine_qu['quality'], sm.add_constant(wine_qu[column]))\n",
    "    # 2. 학습\n",
    "    result = model.fit()\n",
    "    # 3. 플로팅\n",
    "    plt.bar(column, result.rsquared, label=column)\n",
    "# 보여라\n",
    "plt.show()\n",
    "# 알콜이 가장 큰 상관관계를 가졌다. 그러나, 이것이 상관성이 높다는 뜻은 아니다. \n",
    "# 이것은 곧, 1개의 독립변수 만으로는 종속변수를 설명할수 없다는 것\n",
    "# 다중 회귀로 이동을 해야겠다 (여러개의 독립변수의 비율이 적절히 반영되서, 품질을 설명할수 있다면)"
   ]
  },
  {
   "cell_type": "code",
   "execution_count": 22,
   "metadata": {},
   "outputs": [
    {
     "data": {
      "image/png": "[encoded data removed]",
      "text/plain": [
       "<Figure size 1440x432 with 1 Axes>"
      ]
     },
     "metadata": {
      "needs_background": "light"
     },
     "output_type": "display_data"
    }
   ],
   "source": [
    "# 옵션, VIF를 같이 표현해라.\n",
    "# 여기서는 단순 선형이라 필요없지만, 굳이...\n",
    "# 이렇게 넣으면 된다.\n",
    "plt.figure(figsize=(20,6))\n",
    "for column in wine_qu.columns[:-1] :\n",
    "    model = sm.OLS(wine_qu['quality'], sm.add_constant(wine_qu[column]))\n",
    "    result = model.fit()\n",
    "    vif = 1/(1-result.rsquared)\n",
    "    plt.bar(column, vif, label=column, bottom = result.rsquared)\n",
    "    plt.bar(column, result.rsquared, label=column)\n",
    "    \n",
    "plt.show()"
   ]
  },
  {
   "cell_type": "markdown",
   "metadata": {},
   "source": [
    "#### 직접 low level 구현하여 분석"
   ]
  },
  {
   "cell_type": "code",
   "execution_count": 23,
   "metadata": {},
   "outputs": [],
   "source": [
    "# 데이터를 분할해서 진행\n",
    "from sklearn.model_selection import train_test_split\n",
    "from sklearn.metrics import r2_score"
   ]
  },
  {
   "cell_type": "code",
   "execution_count": 24,
   "metadata": {},
   "outputs": [
    {
     "data": {
      "text/plain": [
       "((1119,), (480,), (1119,), (480,))"
      ]
     },
     "execution_count": 24,
     "metadata": {},
     "output_type": "execute_result"
    }
   ],
   "source": [
    "# 데이터 분할) 머신러닝 : 75:25, 통계모델 : 7:3\n",
    "# X재료가 1D라도 분할 처리는 된다. \n",
    "X_train, X_test, y_train, y_test = train_test_split(wine_qu['alcohol'],wine_qu['quality'], train_size=0.7, random_state=42)\n",
    "X_train.shape, X_test.shape, y_train.shape, y_test.shape"
   ]
  },
  {
   "cell_type": "code",
   "execution_count": 25,
   "metadata": {},
   "outputs": [],
   "source": [
    "X_train = pd.DataFrame(X_train) \n",
    "X_test = pd.DataFrame(X_test)\n",
    "y_train = pd.DataFrame(y_train)\n",
    "y_test = pd.DataFrame(y_test)"
   ]
  },
  {
   "cell_type": "code",
   "execution_count": 26,
   "metadata": {},
   "outputs": [
    {
     "data": {
      "text/html": [
       "<div>\n",
       "<style scoped>\n",
       "    .dataframe tbody tr th:only-of-type {\n",
       "        vertical-align: middle;\n",
       "    }\n",
       "\n",
       "    .dataframe tbody tr th {\n",
       "        vertical-align: top;\n",
       "    }\n",
       "\n",
       "    .dataframe thead th {\n",
       "        text-align: right;\n",
       "    }\n",
       "</style>\n",
       "<table border=\"1\" class=\"dataframe\">\n",
       "  <thead>\n",
       "    <tr style=\"text-align: right;\">\n",
       "      <th></th>\n",
       "      <th>alcohol</th>\n",
       "    </tr>\n",
       "  </thead>\n",
       "  <tbody>\n",
       "    <tr>\n",
       "      <th>925</th>\n",
       "      <td>11.0</td>\n",
       "    </tr>\n",
       "    <tr>\n",
       "      <th>363</th>\n",
       "      <td>10.2</td>\n",
       "    </tr>\n",
       "    <tr>\n",
       "      <th>906</th>\n",
       "      <td>11.0</td>\n",
       "    </tr>\n",
       "    <tr>\n",
       "      <th>426</th>\n",
       "      <td>11.4</td>\n",
       "    </tr>\n",
       "    <tr>\n",
       "      <th>1251</th>\n",
       "      <td>9.8</td>\n",
       "    </tr>\n",
       "  </tbody>\n",
       "</table>\n",
       "</div>"
      ],
      "text/plain": [
       "      alcohol\n",
       "925      11.0\n",
       "363      10.2\n",
       "906      11.0\n",
       "426      11.4\n",
       "1251      9.8"
      ]
     },
     "execution_count": 26,
     "metadata": {},
     "output_type": "execute_result"
    }
   ],
   "source": [
    "X_train.head()"
   ]
  },
  {
   "cell_type": "markdown",
   "metadata": {},
   "source": [
    "- 회귀 모델의 계수(a,b)를 계산하기 위해서 진행"
   ]
  },
  {
   "cell_type": "code",
   "execution_count": 27,
   "metadata": {},
   "outputs": [
    {
     "data": {
      "text/plain": [
       "(10.42, 5.62)"
      ]
     },
     "execution_count": 27,
     "metadata": {},
     "output_type": "execute_result"
    }
   ],
   "source": [
    "# 평균 -> 소수점 2자리 까지\n",
    "alcohol_mean = round(np.mean(X_train['alcohol']),2)\n",
    "quality_mean = round(np.mean(y_train['quality']),2)\n",
    "alcohol_mean, quality_mean"
   ]
  },
  {
   "cell_type": "code",
   "execution_count": 28,
   "metadata": {},
   "outputs": [
    {
     "data": {
      "text/plain": [
       "(1.12, 0.66)"
      ]
     },
     "execution_count": 28,
     "metadata": {},
     "output_type": "execute_result"
    }
   ],
   "source": [
    "\"\"\"\n",
    "분산\n",
    "    - variance\n",
    "    - 관측값에서 평균을 뺀 값을 제곱하여, 모두 더한다. 추후 전체갯수로 나눠서 구함\n",
    "    - 데이터가 기댓값에서 얼마나 떨어져 있는지, 분포하는지 가늠하는 수치\n",
    "    - sum((개별값 - 개별값의 평균)^2) / 전체 갯수\n",
    "\"\"\"\n",
    "# 소수점 둘째 자리까지\n",
    "# alcohol 데이터의 분산(독립변수의 분산) \n",
    "alcohol_variance = round(np.var(X_train['alcohol']),2)\n",
    "# quality 데이터의 분산(종속변수의 분산)\n",
    "quality_variance = round(np.var(y_train['quality']),2)\n",
    "\n",
    "alcohol_variance, quality_variance"
   ]
  },
  {
   "cell_type": "code",
   "execution_count": 30,
   "metadata": {},
   "outputs": [
    {
     "data": {
      "text/plain": [
       "925     11.0\n",
       "363     10.2\n",
       "906     11.0\n",
       "426     11.4\n",
       "1251     9.8\n",
       "        ... \n",
       "1130    10.4\n",
       "1294    10.9\n",
       "860      9.5\n",
       "1459    11.9\n",
       "1126    13.5\n",
       "Name: alcohol, Length: 1119, dtype: float64"
      ]
     },
     "execution_count": 30,
     "metadata": {},
     "output_type": "execute_result"
    }
   ],
   "source": [
    "X_train['alcohol']"
   ]
  },
  {
   "cell_type": "code",
   "execution_count": 31,
   "metadata": {},
   "outputs": [
    {
     "data": {
      "text/plain": [
       "1.122069106927944"
      ]
     },
     "execution_count": 31,
     "metadata": {},
     "output_type": "execute_result"
    }
   ],
   "source": [
    "np.var(X_train['alcohol'])"
   ]
  },
  {
   "cell_type": "code",
   "execution_count": 32,
   "metadata": {},
   "outputs": [
    {
     "data": {
      "text/plain": [
       "1.1220761989871872"
      ]
     },
     "execution_count": 32,
     "metadata": {},
     "output_type": "execute_result"
    }
   ],
   "source": [
    "np.mean((X_train['alcohol']-alcohol_mean)**2)"
   ]
  },
  {
   "cell_type": "code",
   "execution_count": 33,
   "metadata": {},
   "outputs": [
    {
     "data": {
      "text/plain": [
       "1.12"
      ]
     },
     "execution_count": 33,
     "metadata": {},
     "output_type": "execute_result"
    }
   ],
   "source": [
    "alcohol_variance"
   ]
  },
  {
   "cell_type": "code",
   "execution_count": 35,
   "metadata": {},
   "outputs": [],
   "source": [
    "alcohol_variance = round( ((sum((X_train['alcohol'] - alcohol_mean)**2))/(len(X_train))),2)"
   ]
  },
  {
   "cell_type": "code",
   "execution_count": 36,
   "metadata": {
    "scrolled": true
   },
   "outputs": [
    {
     "data": {
      "text/plain": [
       "1.12"
      ]
     },
     "execution_count": 36,
     "metadata": {},
     "output_type": "execute_result"
    }
   ],
   "source": [
    "alcohol_variance"
   ]
  },
  {
   "cell_type": "code",
   "execution_count": 37,
   "metadata": {},
   "outputs": [
    {
     "data": {
      "text/plain": [
       "0.66"
      ]
     },
     "execution_count": 37,
     "metadata": {},
     "output_type": "execute_result"
    }
   ],
   "source": [
    "quality_variance=round( ((sum((y_train['quality'] - quality_mean)**2))/(len(y_train))),2)\n",
    "quality_variance"
   ]
  },
  {
   "cell_type": "code",
   "execution_count": 42,
   "metadata": {},
   "outputs": [
    {
     "data": {
      "text/plain": [
       "0.42"
      ]
     },
     "execution_count": 42,
     "metadata": {},
     "output_type": "execute_result"
    }
   ],
   "source": [
    "# 공분산 : covariance\n",
    "# 2개의 변수 중에 하나의 값이 상승하면, 다른 값도 상승하는가? -> 상승한다. 공분산은 양수이다.\n",
    "# 2개의 변수 중에 하나의 값이 하락하면, 다른 값도 하락하는가? -> 하락한다. 공분산은 음수이다.\n",
    "\n",
    "# ((알콜의 개별값 - 알콜평균)*(품질의 개별값 - 품질평균)) 평균, 소숫점 둘째 자리\n",
    "# 공분산은 상관성에 영향을 미치는 요소, 부호(양의방향, 음의방향)\n",
    "covariance = round(np.mean((X_train['alcohol']-alcohol_mean)*(y_train['quality']-quality_mean)),2)\n",
    "covariance"
   ]
  },
  {
   "cell_type": "code",
   "execution_count": 43,
   "metadata": {},
   "outputs": [
    {
     "data": {
      "text/plain": [
       "(1.7125000000000008, 0.37499999999999994)"
      ]
     },
     "execution_count": 43,
     "metadata": {},
     "output_type": "execute_result"
    }
   ],
   "source": [
    "# 방정식\n",
    "# y = a + bx\n",
    "#---------------------------# \n",
    "# b : 기울기\n",
    "# 공분산/알콜의 분산\n",
    "b = covariance / alcohol_variance\n",
    "#---------------------------#\n",
    "# a : 상수. 편향, y절편\n",
    "# 품질의 평균 - (공분산/알콜분산)*알콜평균\n",
    "#---------------------------#\n",
    "a = quality_mean - b*alcohol_mean\n",
    "# a와 b를 구할 수 있다.\n",
    "# 회귀 계수 획득 : 단순 선형 회귀 모델\n",
    "a, b"
   ]
  },
  {
   "cell_type": "code",
   "execution_count": 44,
   "metadata": {},
   "outputs": [
    {
     "data": {
      "text/plain": [
       "803     5.3125\n",
       "124     5.2750\n",
       "350     5.4250\n",
       "682     5.3875\n",
       "1326    5.6875\n",
       "         ...  \n",
       "1468    5.4625\n",
       "495     5.8375\n",
       "1325    5.6875\n",
       "514     6.1375\n",
       "576     5.4625\n",
       "Name: pred, Length: 480, dtype: float64"
      ]
     },
     "execution_count": 44,
     "metadata": {},
     "output_type": "execute_result"
    }
   ],
   "source": [
    "# 방정식 (두개 변수간의 관계를 설명 하는 식)을 만들었다. \n",
    "# 한번도 접하지 못한 데이터를 넣어서 예측을 해보겠다. \n",
    "y_test['pred'] = a + b*X_test['alcohol']\n",
    "y_test['pred']"
   ]
  },
  {
   "cell_type": "code",
   "execution_count": 45,
   "metadata": {},
   "outputs": [
    {
     "data": {
      "text/html": [
       "<div>\n",
       "<style scoped>\n",
       "    .dataframe tbody tr th:only-of-type {\n",
       "        vertical-align: middle;\n",
       "    }\n",
       "\n",
       "    .dataframe tbody tr th {\n",
       "        vertical-align: top;\n",
       "    }\n",
       "\n",
       "    .dataframe thead th {\n",
       "        text-align: right;\n",
       "    }\n",
       "</style>\n",
       "<table border=\"1\" class=\"dataframe\">\n",
       "  <thead>\n",
       "    <tr style=\"text-align: right;\">\n",
       "      <th></th>\n",
       "      <th>quality</th>\n",
       "      <th>pred</th>\n",
       "    </tr>\n",
       "  </thead>\n",
       "  <tbody>\n",
       "    <tr>\n",
       "      <th>803</th>\n",
       "      <td>6</td>\n",
       "      <td>5.3125</td>\n",
       "    </tr>\n",
       "    <tr>\n",
       "      <th>124</th>\n",
       "      <td>5</td>\n",
       "      <td>5.2750</td>\n",
       "    </tr>\n",
       "    <tr>\n",
       "      <th>350</th>\n",
       "      <td>6</td>\n",
       "      <td>5.4250</td>\n",
       "    </tr>\n",
       "    <tr>\n",
       "      <th>682</th>\n",
       "      <td>5</td>\n",
       "      <td>5.3875</td>\n",
       "    </tr>\n",
       "    <tr>\n",
       "      <th>1326</th>\n",
       "      <td>6</td>\n",
       "      <td>5.6875</td>\n",
       "    </tr>\n",
       "    <tr>\n",
       "      <th>...</th>\n",
       "      <td>...</td>\n",
       "      <td>...</td>\n",
       "    </tr>\n",
       "    <tr>\n",
       "      <th>1468</th>\n",
       "      <td>7</td>\n",
       "      <td>5.4625</td>\n",
       "    </tr>\n",
       "    <tr>\n",
       "      <th>495</th>\n",
       "      <td>8</td>\n",
       "      <td>5.8375</td>\n",
       "    </tr>\n",
       "    <tr>\n",
       "      <th>1325</th>\n",
       "      <td>6</td>\n",
       "      <td>5.6875</td>\n",
       "    </tr>\n",
       "    <tr>\n",
       "      <th>514</th>\n",
       "      <td>7</td>\n",
       "      <td>6.1375</td>\n",
       "    </tr>\n",
       "    <tr>\n",
       "      <th>576</th>\n",
       "      <td>4</td>\n",
       "      <td>5.4625</td>\n",
       "    </tr>\n",
       "  </tbody>\n",
       "</table>\n",
       "<p>480 rows × 2 columns</p>\n",
       "</div>"
      ],
      "text/plain": [
       "      quality    pred\n",
       "803         6  5.3125\n",
       "124         5  5.2750\n",
       "350         6  5.4250\n",
       "682         5  5.3875\n",
       "1326        6  5.6875\n",
       "...       ...     ...\n",
       "1468        7  5.4625\n",
       "495         8  5.8375\n",
       "1325        6  5.6875\n",
       "514         7  6.1375\n",
       "576         4  5.4625\n",
       "\n",
       "[480 rows x 2 columns]"
      ]
     },
     "execution_count": 45,
     "metadata": {},
     "output_type": "execute_result"
    }
   ],
   "source": [
    "y_test"
   ]
  },
  {
   "cell_type": "code",
   "execution_count": 46,
   "metadata": {},
   "outputs": [
    {
     "data": {
      "text/plain": [
       "0.1853"
      ]
     },
     "execution_count": 46,
     "metadata": {},
     "output_type": "execute_result"
    }
   ],
   "source": [
    "# R제곱값을 구하시오.\n",
    "# 예측한것은 종속변수 품질이다. 식에 관계하는 것도 품질 관련값이다.\n",
    "\n",
    "# 식 = 1 - (합산((실제품질값 - 예측값)^2) / 합산((실제품질값 - 실제품질 평균값)^2))\n",
    "tmp1 = sum((y_test['quality']-y_test['pred'])**2)\n",
    "tmp2 = sum((y_test['quality']-np.mean(y_test['quality']))**2)\n",
    "\n",
    "# tmp1 : 최소제곱\n",
    "# tmp2 : 잔차\n",
    "\n",
    "R_sqrd = 1 - (tmp1/tmp2)\n",
    "round(R_sqrd,4)"
   ]
  },
  {
   "cell_type": "markdown",
   "metadata": {},
   "source": [
    "- R^2 이 0.185 이다.\n",
    "    - 알콜이 품질을 18.5% 설명 할 수 있다. 영향을 미친다.\n",
    "    - 0.7 이하 이므로 알콜과 품질은 상관관계가 약하다.\n",
    "    - 무의미 하다라고 볼 수 있다."
   ]
  },
  {
   "cell_type": "markdown",
   "metadata": {},
   "source": [
    "#### numpy를 이용한 분석"
   ]
  },
  {
   "cell_type": "code",
   "execution_count": 47,
   "metadata": {},
   "outputs": [
    {
     "data": {
      "text/plain": [
       "array([[1.        , 0.47616632],\n",
       "       [0.47616632, 1.        ]])"
      ]
     },
     "execution_count": 47,
     "metadata": {},
     "output_type": "execute_result"
    }
   ],
   "source": [
    "# 피어슨 상관관계를 활용하여 R제곱 구하기\n",
    "# 두 변수 X와 y에 대한 선형 상관관계를 계량화한 수치\n",
    "tmp = np.corrcoef(wine_qu['alcohol'], wine_qu['quality'])\n",
    "tmp"
   ]
  },
  {
   "cell_type": "code",
   "execution_count": 48,
   "metadata": {},
   "outputs": [
    {
     "data": {
      "text/plain": [
       "array([[0.        , 0.        ],\n",
       "       [0.47616632, 0.        ]])"
      ]
     },
     "execution_count": 48,
     "metadata": {},
     "output_type": "execute_result"
    }
   ],
   "source": [
    "# 대각선을 (왼쪽, 오른쪽 방향) 날리면서 데이터를 획득\n",
    "# k = -1 : 대각선 1개를 날린다. 밑에 값만 남긴다.\n",
    "np.tril(tmp, k=-1)"
   ]
  },
  {
   "cell_type": "code",
   "execution_count": 49,
   "metadata": {},
   "outputs": [
    {
     "data": {
      "text/plain": [
       "array([[0., 0.],\n",
       "       [0., 0.]])"
      ]
     },
     "execution_count": 49,
     "metadata": {},
     "output_type": "execute_result"
    }
   ],
   "source": [
    "np.tril(tmp, k=-2)"
   ]
  },
  {
   "cell_type": "code",
   "execution_count": 50,
   "metadata": {},
   "outputs": [
    {
     "data": {
      "text/plain": [
       "0.2267"
      ]
     },
     "execution_count": 50,
     "metadata": {},
     "output_type": "execute_result"
    }
   ],
   "source": [
    "# R^2 값 획득\n",
    "round(np.sum(np.tril(tmp, k=-1))**2, 4)"
   ]
  },
  {
   "cell_type": "code",
   "execution_count": 51,
   "metadata": {},
   "outputs": [
    {
     "data": {
      "text/plain": [
       "array([0.36084177, 1.87497489])"
      ]
     },
     "execution_count": 51,
     "metadata": {},
     "output_type": "execute_result"
    }
   ],
   "source": [
    "# 방정식 -> 회귀계수(a,b)\n",
    "# 1:1은 1차함수를 만들기 위한 계수 획득\n",
    "fp1 = np.polyfit(wine_qu['alcohol'], wine_qu['quality'], 1)\n",
    "# [기울기, 절편]\n",
    "fp1"
   ]
  },
  {
   "cell_type": "code",
   "execution_count": 52,
   "metadata": {},
   "outputs": [],
   "source": [
    "# 함수 만들기\n",
    "f1 = np.poly1d(fp1)"
   ]
  },
  {
   "cell_type": "code",
   "execution_count": 53,
   "metadata": {},
   "outputs": [
    {
     "data": {
      "text/plain": [
       "(1599,)"
      ]
     },
     "execution_count": 53,
     "metadata": {},
     "output_type": "execute_result"
    }
   ],
   "source": [
    "# 예측 : 원래는 테스트 데이터를 넣어야하지만, 훈련 시 전체 데이터를 넣어서 그냥 원데이터를 넣겠다.\n",
    "tmp_pred = f1(wine_qu['alcohol'])\n",
    "tmp_pred.shape"
   ]
  },
  {
   "cell_type": "code",
   "execution_count": 54,
   "metadata": {},
   "outputs": [
    {
     "data": {
      "text/plain": [
       "0.2267"
      ]
     },
     "execution_count": 54,
     "metadata": {},
     "output_type": "execute_result"
    }
   ],
   "source": [
    "tmp1 = sum((wine_qu['quality']-tmp_pred)**2)\n",
    "tmp2 = sum((wine_qu['quality']-np.mean(wine_qu['quality']))**2)\n",
    "\n",
    "# tmp1 : 최소제곱\n",
    "# tmp2 : 잔차 \n",
    "\n",
    "R_sqrd = 1 - (tmp1/tmp2) \n",
    "round(R_sqrd, 4)"
   ]
  },
  {
   "cell_type": "markdown",
   "metadata": {},
   "source": [
    "## 다중 회귀 분석"
   ]
  },
  {
   "cell_type": "markdown",
   "metadata": {},
   "source": [
    "- 여러개의 독립변수를 가지고 회귀 분석\n",
    "- 방정식\n",
    "  - y = ⍺ + β1x1 + β2x2 + ... + βnxn\n",
    "- 독립변수를 어떤 것을 사용할 것인가?\n",
    "  - 전진 선택법\n",
    "    - 빈대삳(독립변수가 없다) 에서 독립변수들을 추가해가면서, 성능 체크, 성능이 좋은 쪽은 남기는 방식\n",
    "  - 후진 제거법(변수 소거법)\n",
    "    - 전체변수 대상\n",
    "    - 미리 설정한 임계값, 수치까지 만족할때 까지 반복적으로 변수를 제거해 가면서 학습 => 최적 조합 확인 \n",
    "    - R^2 을 기준으로 한다면 > 0.5 > 0.7 등등 설정\n",
    "    - 다중공선성 -> VIF < 10 이하 등등  "
   ]
  },
  {
   "cell_type": "code",
   "execution_count": 55,
   "metadata": {},
   "outputs": [
    {
     "data": {
      "text/plain": [
       "array([5, 6, 7, 4, 8, 3], dtype=int64)"
      ]
     },
     "execution_count": 55,
     "metadata": {},
     "output_type": "execute_result"
    }
   ],
   "source": [
    "# 정답의 성분 분포\n",
    "wine_qu.quality.unique()"
   ]
  },
  {
   "cell_type": "code",
   "execution_count": 56,
   "metadata": {},
   "outputs": [
    {
     "data": {
      "text/plain": [
       "5    681\n",
       "6    638\n",
       "7    199\n",
       "4     53\n",
       "8     18\n",
       "3     10\n",
       "Name: quality, dtype: int64"
      ]
     },
     "execution_count": 56,
     "metadata": {},
     "output_type": "execute_result"
    }
   ],
   "source": [
    "# 정답의 성분별 갯수\n",
    "\"\"\"\n",
    "- 품질 3,8,4번의 경우는 타 품질에 비해 샘플량이 현저하게 적다.\n",
    "- 이로 인해서, 전체적인 정확도나 판단에 영향을 주지 않았을까? 고려해볼수 있다. \n",
    "- 데이터를 받았을때 고려 -> 균형, 데이터를 더 받을 수 없다면(불균형한데) 소거(소량의 데이터는 제거)\n",
    "\"\"\"\n",
    "wine_qu.quality.value_counts()\n",
    "# 여기서는 그대로 진행"
   ]
  },
  {
   "cell_type": "code",
   "execution_count": 57,
   "metadata": {},
   "outputs": [
    {
     "data": {
      "text/html": [
       "<div>\n",
       "<style scoped>\n",
       "    .dataframe tbody tr th:only-of-type {\n",
       "        vertical-align: middle;\n",
       "    }\n",
       "\n",
       "    .dataframe tbody tr th {\n",
       "        vertical-align: top;\n",
       "    }\n",
       "\n",
       "    .dataframe thead th {\n",
       "        text-align: right;\n",
       "    }\n",
       "</style>\n",
       "<table border=\"1\" class=\"dataframe\">\n",
       "  <thead>\n",
       "    <tr style=\"text-align: right;\">\n",
       "      <th></th>\n",
       "      <th>fixed acidity</th>\n",
       "      <th>volatile acidity</th>\n",
       "      <th>citric acid</th>\n",
       "      <th>residual sugar</th>\n",
       "      <th>chlorides</th>\n",
       "      <th>free sulfur dioxide</th>\n",
       "      <th>total sulfur dioxide</th>\n",
       "      <th>density</th>\n",
       "      <th>pH</th>\n",
       "      <th>sulphates</th>\n",
       "      <th>alcohol</th>\n",
       "    </tr>\n",
       "  </thead>\n",
       "  <tbody>\n",
       "    <tr>\n",
       "      <th>0</th>\n",
       "      <td>7.4</td>\n",
       "      <td>0.70</td>\n",
       "      <td>0.00</td>\n",
       "      <td>1.9</td>\n",
       "      <td>0.076</td>\n",
       "      <td>11.0</td>\n",
       "      <td>34.0</td>\n",
       "      <td>0.9978</td>\n",
       "      <td>3.51</td>\n",
       "      <td>0.56</td>\n",
       "      <td>9.4</td>\n",
       "    </tr>\n",
       "    <tr>\n",
       "      <th>1</th>\n",
       "      <td>7.8</td>\n",
       "      <td>0.88</td>\n",
       "      <td>0.00</td>\n",
       "      <td>2.6</td>\n",
       "      <td>0.098</td>\n",
       "      <td>25.0</td>\n",
       "      <td>67.0</td>\n",
       "      <td>0.9968</td>\n",
       "      <td>3.20</td>\n",
       "      <td>0.68</td>\n",
       "      <td>9.8</td>\n",
       "    </tr>\n",
       "    <tr>\n",
       "      <th>2</th>\n",
       "      <td>7.8</td>\n",
       "      <td>0.76</td>\n",
       "      <td>0.04</td>\n",
       "      <td>2.3</td>\n",
       "      <td>0.092</td>\n",
       "      <td>15.0</td>\n",
       "      <td>54.0</td>\n",
       "      <td>0.9970</td>\n",
       "      <td>3.26</td>\n",
       "      <td>0.65</td>\n",
       "      <td>9.8</td>\n",
       "    </tr>\n",
       "    <tr>\n",
       "      <th>3</th>\n",
       "      <td>11.2</td>\n",
       "      <td>0.28</td>\n",
       "      <td>0.56</td>\n",
       "      <td>1.9</td>\n",
       "      <td>0.075</td>\n",
       "      <td>17.0</td>\n",
       "      <td>60.0</td>\n",
       "      <td>0.9980</td>\n",
       "      <td>3.16</td>\n",
       "      <td>0.58</td>\n",
       "      <td>9.8</td>\n",
       "    </tr>\n",
       "    <tr>\n",
       "      <th>4</th>\n",
       "      <td>7.4</td>\n",
       "      <td>0.70</td>\n",
       "      <td>0.00</td>\n",
       "      <td>1.9</td>\n",
       "      <td>0.076</td>\n",
       "      <td>11.0</td>\n",
       "      <td>34.0</td>\n",
       "      <td>0.9978</td>\n",
       "      <td>3.51</td>\n",
       "      <td>0.56</td>\n",
       "      <td>9.4</td>\n",
       "    </tr>\n",
       "  </tbody>\n",
       "</table>\n",
       "</div>"
      ],
      "text/plain": [
       "   fixed acidity  volatile acidity  citric acid  residual sugar  chlorides  \\\n",
       "0            7.4              0.70         0.00             1.9      0.076   \n",
       "1            7.8              0.88         0.00             2.6      0.098   \n",
       "2            7.8              0.76         0.04             2.3      0.092   \n",
       "3           11.2              0.28         0.56             1.9      0.075   \n",
       "4            7.4              0.70         0.00             1.9      0.076   \n",
       "\n",
       "   free sulfur dioxide  total sulfur dioxide  density    pH  sulphates  \\\n",
       "0                 11.0                  34.0   0.9978  3.51       0.56   \n",
       "1                 25.0                  67.0   0.9968  3.20       0.68   \n",
       "2                 15.0                  54.0   0.9970  3.26       0.65   \n",
       "3                 17.0                  60.0   0.9980  3.16       0.58   \n",
       "4                 11.0                  34.0   0.9978  3.51       0.56   \n",
       "\n",
       "   alcohol  \n",
       "0      9.4  \n",
       "1      9.8  \n",
       "2      9.8  \n",
       "3      9.8  \n",
       "4      9.4  "
      ]
     },
     "execution_count": 57,
     "metadata": {},
     "output_type": "execute_result"
    }
   ],
   "source": [
    "# 정답을 제거\n",
    "wine_data = wine_qu[ wine_qu.columns[:-1]]\n",
    "wine_data.head()"
   ]
  },
  {
   "cell_type": "code",
   "execution_count": 59,
   "metadata": {},
   "outputs": [
    {
     "data": {
      "text/plain": [
       "((1119, 11), (480, 11), (1119,), (480,))"
      ]
     },
     "execution_count": 59,
     "metadata": {},
     "output_type": "execute_result"
    }
   ],
   "source": [
    "# 데이터 훈련, 테스트로\n",
    "X_train, X_test, y_train, y_test = train_test_split(wine_data, wine_qu['quality'], train_size=0.7, random_state=42) \n",
    "\n",
    "X_train.shape, X_test.shape, y_train.shape, y_test.shape"
   ]
  },
  {
   "cell_type": "code",
   "execution_count": 60,
   "metadata": {},
   "outputs": [
    {
     "data": {
      "text/html": [
       "<div>\n",
       "<style scoped>\n",
       "    .dataframe tbody tr th:only-of-type {\n",
       "        vertical-align: middle;\n",
       "    }\n",
       "\n",
       "    .dataframe tbody tr th {\n",
       "        vertical-align: top;\n",
       "    }\n",
       "\n",
       "    .dataframe thead th {\n",
       "        text-align: right;\n",
       "    }\n",
       "</style>\n",
       "<table border=\"1\" class=\"dataframe\">\n",
       "  <thead>\n",
       "    <tr style=\"text-align: right;\">\n",
       "      <th></th>\n",
       "      <th>const</th>\n",
       "      <th>fixed acidity</th>\n",
       "      <th>volatile acidity</th>\n",
       "      <th>citric acid</th>\n",
       "      <th>residual sugar</th>\n",
       "      <th>chlorides</th>\n",
       "      <th>free sulfur dioxide</th>\n",
       "      <th>total sulfur dioxide</th>\n",
       "      <th>density</th>\n",
       "      <th>pH</th>\n",
       "      <th>sulphates</th>\n",
       "      <th>alcohol</th>\n",
       "    </tr>\n",
       "  </thead>\n",
       "  <tbody>\n",
       "    <tr>\n",
       "      <th>925</th>\n",
       "      <td>1.0</td>\n",
       "      <td>8.6</td>\n",
       "      <td>0.22</td>\n",
       "      <td>0.36</td>\n",
       "      <td>1.9</td>\n",
       "      <td>0.064</td>\n",
       "      <td>53.0</td>\n",
       "      <td>77.0</td>\n",
       "      <td>0.99604</td>\n",
       "      <td>3.47</td>\n",
       "      <td>0.87</td>\n",
       "      <td>11.0</td>\n",
       "    </tr>\n",
       "  </tbody>\n",
       "</table>\n",
       "</div>"
      ],
      "text/plain": [
       "     const  fixed acidity  volatile acidity  citric acid  residual sugar  \\\n",
       "925    1.0            8.6              0.22         0.36             1.9   \n",
       "\n",
       "     chlorides  free sulfur dioxide  total sulfur dioxide  density    pH  \\\n",
       "925      0.064                 53.0                  77.0  0.99604  3.47   \n",
       "\n",
       "     sulphates  alcohol  \n",
       "925       0.87     11.0  "
      ]
     },
     "execution_count": 60,
     "metadata": {},
     "output_type": "execute_result"
    }
   ],
   "source": [
    "X_train_add = sm.add_constant(X_train)\n",
    "X_train_add[:1]"
   ]
  },
  {
   "cell_type": "code",
   "execution_count": 62,
   "metadata": {},
   "outputs": [
    {
     "name": "stdout",
     "output_type": "stream",
     "text": [
      "                            OLS Regression Results                            \n",
      "==============================================================================\n",
      "Dep. Variable:                quality   R-squared:                       0.361\n",
      "Model:                            OLS   Adj. R-squared:                  0.355\n",
      "Method:                 Least Squares   F-statistic:                     56.90\n",
      "Date:                Mon, 12 Jul 2021   Prob (F-statistic):          8.34e-100\n",
      "Time:                        17:22:43   Log-Likelihood:                -1103.5\n",
      "No. Observations:                1119   AIC:                             2231.\n",
      "Df Residuals:                    1107   BIC:                             2291.\n",
      "Df Model:                          11                                         \n",
      "Covariance Type:            nonrobust                                         \n",
      "========================================================================================\n",
      "                           coef    std err          t      P>|t|      [0.025      0.975]\n",
      "----------------------------------------------------------------------------------------\n",
      "const                   17.9626     25.237      0.712      0.477     -31.555      67.480\n",
      "fixed acidity            0.0235      0.031      0.769      0.442      -0.036       0.083\n",
      "volatile acidity        -1.0996      0.145     -7.599      0.000      -1.384      -0.816\n",
      "citric acid             -0.2479      0.177     -1.402      0.161      -0.595       0.099\n",
      "residual sugar           0.0077      0.018      0.429      0.668      -0.028       0.043\n",
      "chlorides               -1.6736      0.500     -3.344      0.001      -2.656      -0.692\n",
      "free sulfur dioxide      0.0046      0.003      1.706      0.088      -0.001       0.010\n",
      "total sulfur dioxide    -0.0033      0.001     -3.723      0.000      -0.005      -0.002\n",
      "density                -14.2396     25.750     -0.553      0.580     -64.763      36.284\n",
      "pH                      -0.3192      0.227     -1.404      0.161      -0.766       0.127\n",
      "sulphates                0.8128      0.135      6.007      0.000       0.547       1.078\n",
      "alcohol                  0.2920      0.032      9.268      0.000       0.230       0.354\n",
      "==============================================================================\n",
      "Omnibus:                       29.060   Durbin-Watson:                   2.001\n",
      "Prob(Omnibus):                  0.000   Jarque-Bera (JB):               50.192\n",
      "Skew:                          -0.193   Prob(JB):                     1.26e-11\n",
      "Kurtosis:                       3.963   Cond. No.                     1.13e+05\n",
      "==============================================================================\n",
      "\n",
      "Notes:\n",
      "[1] Standard Errors assume that the covariance matrix of the errors is correctly specified.\n",
      "[2] The condition number is large, 1.13e+05. This might indicate that there are\n",
      "strong multicollinearity or other numerical problems.\n"
     ]
    }
   ],
   "source": [
    "full_model = sm.OLS(y_train,  X_train_add)\n",
    "full_result = full_model.fit()\n",
    "print(full_result.summary())"
   ]
  },
  {
   "cell_type": "markdown",
   "metadata": {},
   "source": [
    "- 해석\n",
    "  - 방정식 체크 -> 음수(b값)가 많이 보인다. -> 무의미한 변수들이 존재한 것으로 예상\n",
    "  - R^2 값의 경우 0.361 이므로, 독립변수 11개나 사용하는데, 실제로 이것이 품질에 미치는 영향이 작다. (36.1%)\n",
    "  - 변수들을 많이 제거해야 겠다는 통찰이 1차적으로 보인다."
   ]
  },
  {
   "cell_type": "markdown",
   "metadata": {},
   "source": [
    "- 후진 제거법을 이용하여, 변수들을 제거해 가면서 진행\n",
    "- 방법\n",
    "  - 맨 뒤에서, 혹은 맨 앞에서 하나씩 교대로 제거할 것인가? \n",
    "  - 한번에 제거하면, 몇개씩 제거할 것인가? \n",
    "  - 성분을 고려하여 영향력이 적은 순으로 제거할 것인가? (향후 발전방안)"
   ]
  },
  {
   "cell_type": "code",
   "execution_count": 63,
   "metadata": {},
   "outputs": [
    {
     "data": {
      "text/plain": [
       "11"
      ]
     },
     "execution_count": 63,
     "metadata": {},
     "output_type": "execute_result"
    }
   ],
   "source": [
    "columns = wine_data.columns\n",
    "len(columns)"
   ]
  },
  {
   "cell_type": "code",
   "execution_count": 64,
   "metadata": {},
   "outputs": [
    {
     "data": {
      "text/plain": [
       "['fixed acidity',\n",
       " 'volatile acidity',\n",
       " 'citric acid',\n",
       " 'residual sugar',\n",
       " 'chlorides',\n",
       " 'free sulfur dioxide',\n",
       " 'total sulfur dioxide',\n",
       " 'density',\n",
       " 'pH',\n",
       " 'sulphates',\n",
       " 'alcohol']"
      ]
     },
     "execution_count": 64,
     "metadata": {},
     "output_type": "execute_result"
    }
   ],
   "source": [
    "tmp_col = list(columns)\n",
    "tmp_col"
   ]
  },
  {
   "cell_type": "code",
   "execution_count": 69,
   "metadata": {},
   "outputs": [
    {
     "name": "stdout",
     "output_type": "stream",
     "text": [
      "fixed acidity          0.3608568634058452   1.5645947562368698\n",
      "volatile acidity       0.3278384953415143   1.4877376836807752\n",
      "citric acid           0.32010192954978467    1.470808704219177\n",
      "residual sugar         0.3200965683653063   1.4707971065768815\n",
      "chlorides              0.3014821631392264    1.431602669581245\n",
      "free sulfur dioxide   0.29634319329770076   1.4211473412536413\n",
      "total sulfur dioxide   0.2854016884891897   1.3993875774570343\n",
      "density                0.2852966315988986   1.3991818763036614\n",
      "pH                     0.2776879236195997   1.3844431412681482\n",
      "sulphates             0.24209702997870952   1.3194301111815259\n",
      "alcohol              -2.220446049250313e-16   0.9999999999999998\n"
     ]
    }
   ],
   "source": [
    "# 컬럼은 뒤에서 하나씩 제거 \n",
    "for idx in range(len(columns)) :\n",
    "    # 사본 획득\n",
    "    tmp_col = list(columns)\n",
    "    # 사본에서 컬럼 제거\n",
    "    # 사본에서 제거된 컬럼명\n",
    "    rm_col = tmp_col.pop(idx)\n",
    "#     print(len(tmp_col[idx:]))\n",
    "#     print(tmp_col)\n",
    "#     print(rm_col)\n",
    "    # 모델생성(대상 데이터만 포함)\n",
    "    model = sm.OLS(y_train, sm.add_constant(X_train[tmp_col[idx:]]))\n",
    "    # 훈련 \n",
    "    result = model.fit()\n",
    "    # 출력값\n",
    "    vif = 1 / (1-result.rsquared)\n",
    "    # 출력값\n",
    "    # 제거된 컬럼명, R^2, VIF 출력\n",
    "    print(f'{rm_col:20} {result.rsquared:20} {vif:20}')\n",
    "\n",
    "\n",
    "# 변수를 빼가면서 단순하게 진행을 해봤는데, 그닥 성과가 없었다. \n",
    "# 조합의 문제가 필요해 보인다!!! \n",
    "# 조합 만들기!!! \n",
    "    "
   ]
  },
  {
   "cell_type": "markdown",
   "metadata": {},
   "source": [
    "- 가장 그나마 선형회귀를 수행 시 상관관계가 높은 변수를 5~6개 정도 선정하여, 이 변수들의 조합을 만들어서 테스트 해본다.\n",
    "- 무작위 5~6개 혹은 영향이 높은 것 50%, 낮은 것 50% 정도 혼합해서 진행"
   ]
  },
  {
   "cell_type": "code",
   "execution_count": 70,
   "metadata": {},
   "outputs": [
    {
     "data": {
      "text/plain": [
       "[(1, 2), (1, 3), (2, 1), (2, 3), (3, 1), (3, 2)]"
      ]
     },
     "execution_count": 70,
     "metadata": {},
     "output_type": "execute_result"
    }
   ],
   "source": [
    "\"\"\"\n",
    "대상 1, 2, 3\n",
    "=> (1,2), (1,3), (2,1), (2,3), (3,1), (3,2) : 순서 중요하고, 2개만 조합\n",
    "=> (1,2), (1,3), (2,3) : 순서 상관없고, 2개만 조합\n",
    "\"\"\"\n",
    "from itertools import permutations, combinations\n",
    "targets = [1,2,3]\n",
    "[item for item in list(permutations(targets,2))]"
   ]
  },
  {
   "cell_type": "code",
   "execution_count": 71,
   "metadata": {},
   "outputs": [
    {
     "data": {
      "text/plain": [
       "[(1, 2), (1, 3), (2, 3)]"
      ]
     },
     "execution_count": 71,
     "metadata": {},
     "output_type": "execute_result"
    }
   ],
   "source": [
    "[item for item in list(combinations(targets, 2)) ]"
   ]
  },
  {
   "cell_type": "code",
   "execution_count": 72,
   "metadata": {},
   "outputs": [
    {
     "data": {
      "text/plain": [
       "462"
      ]
     },
     "execution_count": 72,
     "metadata": {},
     "output_type": "execute_result"
    }
   ],
   "source": [
    "# 독립변수들의 조합을 만드는데, 5개가 구성되게 조합을 만들겠다.\n",
    "# 총 11개의 변수가 있는데 5개만 묶이게 되는, 중복되지 않는 조합의 총 수는 \n",
    "five_cols = [item for item in list(combinations(columns,5))]\n",
    "len(five_cols)"
   ]
  },
  {
   "cell_type": "code",
   "execution_count": 73,
   "metadata": {},
   "outputs": [
    {
     "name": "stdout",
     "output_type": "stream",
     "text": [
      "1 11\n",
      "2 55\n",
      "3 165\n",
      "4 330\n",
      "5 462\n",
      "6 462\n",
      "7 330\n",
      "8 165\n",
      "9 55\n",
      "10 11\n"
     ]
    },
    {
     "data": {
      "text/plain": [
       "2046"
      ]
     },
     "execution_count": 73,
     "metadata": {},
     "output_type": "execute_result"
    }
   ],
   "source": [
    "# 아래 코드는 전진/후진에 상관없이 나올 수 있는 모든 독립변수들의 조합수가 된다.\n",
    "# 이것을 시뮬레이션 하면 다중 회귀상 의미있는 독립변수의 조합을 찾게 되고, 이것을 이용하여 \n",
    "# 분석(해석, 예측)을 진행할 수 있다. -> 반드시 의미있는 결과가 나온다고 보장할 수 없다.\n",
    "candidates = list()\n",
    "for i in range(1,len(columns)) :\n",
    "    cols = [item for item in list(combinations(columns, i))]\n",
    "    print(i, len(cols))\n",
    "    candidates.extend(cols)\n",
    "len(candidates)"
   ]
  },
  {
   "cell_type": "code",
   "execution_count": 74,
   "metadata": {},
   "outputs": [
    {
     "data": {
      "text/plain": [
       "('fixed acidity',)"
      ]
     },
     "execution_count": 74,
     "metadata": {},
     "output_type": "execute_result"
    }
   ],
   "source": [
    "candidates[0]"
   ]
  },
  {
   "cell_type": "code",
   "execution_count": 75,
   "metadata": {},
   "outputs": [
    {
     "data": {
      "text/plain": [
       "('residual sugar', 'chlorides', 'density', 'pH')"
      ]
     },
     "execution_count": 75,
     "metadata": {},
     "output_type": "execute_result"
    }
   ],
   "source": [
    "candidates[500]"
   ]
  },
  {
   "cell_type": "code",
   "execution_count": 77,
   "metadata": {},
   "outputs": [
    {
     "name": "stdout",
     "output_type": "stream",
     "text": [
      "최고 결정계수 2042 0.3610919733704996 1.5651705070531146 ('fixed acidity', 'volatile acidity', 'citric acid', 'chlorides', 'free sulfur dioxide', 'total sulfur dioxide', 'density', 'pH', 'sulphates', 'alcohol')\n",
      "최소 vif 3 4.5909645769670604e-05 1.000045911753562 ('residual sugar',)\n"
     ]
    }
   ],
   "source": [
    "best_r_idx = -1 \n",
    "best_r_rs = -1 \n",
    "best_r_vif = -1\n",
    "\n",
    "best_v_idx = 100\n",
    "best_v_rs = 100\n",
    "best_v_vif = 100\n",
    "\n",
    "# 준비된 모든 독립변수 후보들을 하나씩 꺼내면서 체크 진행\n",
    "for idx, cols in enumerate(candidates) :\n",
    "    model = sm.OLS(y_train, sm.add_constant(X_train[list(cols)]))\n",
    "    result = model.fit()\n",
    "    vif = 1 / (1-result.rsquared)\n",
    "    # 지금 훈련한 모델의 r^2값이 현재 최고 스코어보다 높다\n",
    "    if result.rsquared > best_r_rs :\n",
    "        # 대체\n",
    "        best_r_idx = idx \n",
    "        best_r_rs = result.rsquared\n",
    "        best_r_vif = vif \n",
    "        \n",
    "    if vif < best_v_vif :\n",
    "        best_v_idx = idx \n",
    "        best_v_rs = result.rsquared\n",
    "        best_v_vif = vif \n",
    "        \n",
    "print('최고 결정계수', best_r_idx, best_r_rs, best_r_vif, candidates[best_r_idx])\n",
    "print('최소 vif', best_v_idx, best_v_rs, best_v_vif, candidates[best_v_idx])\n",
    "\n",
    "# 현재 조합으로는 의미 있는 조합을 찾기가 힘들다.\n",
    "# 데이터를 증설, 품질쪽에 소량으로 존재하는 데이터를 제거 후 다시 시도\n",
    "# 파생변수, 데이터 압축등을 활용해서 데이터를 새로 두고 다시 진행\n",
    "# 선행 체크 필요하다."
   ]
  },
  {
   "cell_type": "code",
   "execution_count": null,
   "metadata": {},
   "outputs": [],
   "source": []
  }
 ],
 "metadata": {
  "kernelspec": {
   "display_name": "Python 3",
   "language": "python",
   "name": "python3"
  },
  "language_info": {
   "codemirror_mode": {
    "name": "ipython",
    "version": 3
   },
   "file_extension": ".py",
   "mimetype": "text/x-python",
   "name": "python",
   "nbconvert_exporter": "python",
   "pygments_lexer": "ipython3",
   "version": "3.8.5"
  }
 },
 "nbformat": 4,
 "nbformat_minor": 4
}
